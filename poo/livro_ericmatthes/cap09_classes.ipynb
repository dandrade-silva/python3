{
 "cells": [
  {
   "cell_type": "markdown",
   "metadata": {},
   "source": [
    "# Criando e usando uma Classe"
   ]
  },
  {
   "cell_type": "markdown",
   "metadata": {},
   "source": [
    "Podemos modelar de tudo usando classes. Vamos começar escrevendo uma classe simples, **Dog**, que representa um cachorro - não um cachorro em particular, mas qualquer cachorro. O que sabemos sobre a maioria dos cachorros de estimação? Bem, todos eles têm um nome e uma idade. Também sabemos que a maioria deles senta e rola. Essas duas informações (nome e idade) e esses dois comportamentos (sentar e rolar) farão parte de nossa classe **Dog**, pois são comuns à maioria dos cachorros. Essa classe dirá à Python como criar um objeto que represente um cachorro. Depois que nossa classe estiver escrita, ela será usada para criar instâncias individuais, em que cada uma representará um cachorro específico."
   ]
  },
  {
   "cell_type": "markdown",
   "metadata": {},
   "source": [
    "## Criando a classe Dog"
   ]
  },
  {
   "cell_type": "markdown",
   "metadata": {},
   "source": [
    "Cada instância criada a partir da classe **Dog** armazenará um nome(**name**) e uma idade(**age**) , e daremos a cada cachorro a capacidade de sentar(**sit()**) e rolar (**roll_ver()**):"
   ]
  },
  {
   "cell_type": "code",
   "execution_count": 1,
   "metadata": {},
   "outputs": [],
   "source": [
    "class Dog():\n",
    "    \"\"\"Uma tentativa simples de modelar um cachorro.\"\"\"\n",
    "    \n",
    "    \n",
    "    def __init__(self, name, age):\n",
    "        \"\"\"Inicializa os atributos name e age\"\"\"\n",
    "        self.name = name\n",
    "        self.age = age\n",
    "\n",
    "\n",
    "    def sit(self):\n",
    "        \"\"\"Simula um cachorro sentando em resposta a um comando.\"\"\"\n",
    "        print(f'{self.nome.title()} está sentado agora.')\n",
    "\n",
    "\n",
    "    def roll_over(self):\n",
    "        \"\"\"Simula um cachorro rolando em resposta a um comando.\"\"\"\n",
    "        print(f'{self.nome.title()} rolou para o lado.')"
   ]
  },
  {
   "cell_type": "markdown",
   "metadata": {},
   "source": [
    "Há vários aspectos a serem observados aqui, mas não se preocupe. Você verá essa estrutura ao longo deste capítulo e terá bastante tempo para se acostumar com ela. Na linha **1** definimos uma classe chamada **Dog**. Por convenção, nomes com a primeira letra maiúscula referem-se a classes em Python. Os parênteses na definição da classe estão vazios porque estamos criando essa classe do zero. E na linha **2** escrevemos uma docstring que descreve o que essa classe faz. \n"
   ]
  },
  {
   "cell_type": "markdown",
   "metadata": {},
   "source": [
    "### Método \\_\\_init\\_\\_()"
   ]
  },
  {
   "cell_type": "markdown",
   "metadata": {},
   "source": [
    "Uma função que faz parte de uma classe é um método. Tudo que aprendemos sobre funções também se aplica aos métodos; a única diferença prática, por enquanto, é o modo como chamaremos os métodos. O método **\\_\\_init\\_\\_()** na linha **5** é um método especial que Python executa automaticamente sempre que criamos uma nova instância baseada na classe **Dog**. Esse método tem dois underscores no início e dois no final - uma convenção que ajuda a evitar que os nomes default de métodos Python entrem em conflito com nomes de métodos criados por você."
   ]
  },
  {
   "cell_type": "markdown",
   "metadata": {},
   "source": [
    "Definimos o método **\\_\\_init\\_\\_()** para que tenha três parâmetros: **self**, **name** e **age**. O parâmetro **self** é obrigatório na definição do método e deve estar antes dos demais parâmetros. Deve estar incluído na definição, pois, quando Python chama esse método **\\_\\_init\\_\\_()** depois (para criar uma instância de **Dog**), a chamada do método passará o argumento **self** automaticamente. Toda chamada de método associada a uma classe passa **self**, que é uma referência à própria instância, de modo automático; ele dá acesso aos atributos e métodos da classe à instância individual. Quando criamos uma instância de **Dog**, Python chamará o método **\\_\\_init\\_\\_()** da classe **Dog**. Passaremos um nome e uma idade como argumentos para **Dog()**; **self** é passado automaticamente, portanto não é preciso especificá-lo. Sempre que quisermos criar uma instância da classe **Dog** forneceremos valores apenas para os dois últimos parâmetros, que são **name** e **age**."
   ]
  }
 ],
 "metadata": {
  "kernelspec": {
   "display_name": "venv",
   "language": "python",
   "name": "python3"
  },
  "language_info": {
   "codemirror_mode": {
    "name": "ipython",
    "version": 3
   },
   "file_extension": ".py",
   "mimetype": "text/x-python",
   "name": "python",
   "nbconvert_exporter": "python",
   "pygments_lexer": "ipython3",
   "version": "3.10.9"
  },
  "orig_nbformat": 4
 },
 "nbformat": 4,
 "nbformat_minor": 2
}
