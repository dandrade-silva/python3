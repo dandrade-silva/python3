{
 "cells": [
  {
   "cell_type": "markdown",
   "id": "7f77d5ed",
   "metadata": {},
   "source": [
    "# O que é uma estrutura de dados(ED) Series?"
   ]
  },
  {
   "cell_type": "markdown",
   "id": "9112aeba",
   "metadata": {},
   "source": [
    "Series é uma ED composta por um vetor de dados e um vetor\n",
    "associado de rótulos, este último chamado de índice (index). Ou\n",
    "seja: **Series = vetor de dados + vetor de rótulos.**"
   ]
  },
  {
   "cell_type": "code",
   "execution_count": 4,
   "id": "295e71d7",
   "metadata": {},
   "outputs": [],
   "source": [
    "import pandas as pd"
   ]
  },
  {
   "cell_type": "markdown",
   "id": "14e6f4e1",
   "metadata": {},
   "source": [
    "# Criando uma Series"
   ]
  },
  {
   "cell_type": "code",
   "execution_count": null,
   "id": "3fc0390f",
   "metadata": {
    "collapsed": true
   },
   "outputs": [],
   "source": [
    "# Cria a Series notas\n",
    "notas = pd.Series([7.6, 5.0, 8.5, 9.5, 6.4])\n",
    "\n",
    "# Mostra a Series na tela\n",
    "print(notas)"
   ]
  },
  {
   "cell_type": "code",
   "execution_count": null,
   "id": "53bcaefa",
   "metadata": {
    "collapsed": true
   },
   "outputs": [],
   "source": [
    "# Cria a Series alunos\n",
    "lst_matriculas = ['M02', 'M05', 'M13', 'M14', 'M19']\n",
    "lst_nomes = ['Bob', 'Dayse', 'Bill', 'Cris', 'Jimi']\n",
    "alunos = pd.Series(lst_nomes, index=lst_matriculas)\n",
    "\n",
    "print(alunos)"
   ]
  },
  {
   "cell_type": "markdown",
   "id": "116db654",
   "metadata": {},
   "source": [
    "# Propriedades elementares das Series"
   ]
  },
  {
   "cell_type": "markdown",
   "id": "c7439a8e",
   "metadata": {},
   "source": [
    "Você deve ter notado que, além de ter mostrado os índices e valores de cada **Series**, o comando `print()` do programa anterior também exibiu o `dtype` delas. Trata-se de uma das propriedades básicas das Series, que corresponde ao tipo dos elementos do vetor de dados. O `dtype` de notas é `float64`, que é utilizado para armazenar números reais com dupla precisão (64 bits). Por sua vez, o `dtype` de alunos é `object`, utilizado pela pandas para armazenar dados alfanuméricos (strings). Vale a pena deixar claro que o vetor de dados de uma **Series** sempre conterá valores do mesmo tipo, ou seja, com o mesmo `dtype`.\n",
    "\n",
    "A tabela a seguir apresenta os cinco principais dtypes da pandas. Na primeira coluna mostramos o nome do dtype , na segunda, o tipo de dado que ele armazena e na terceira, o nome do tipo equivalente no Python padrão.\n",
    "\n",
    "dtype|Utilização|Tipo Python\n",
    ":---|:---|:---\n",
    "int64|números inteiros|int\n",
    "float64|números reais|float\n",
    "bool|True/False|bool\n",
    "object|texto|str\n",
    "datetime64|data/hora|datetime\n",
    "\n",
    "É necessário ressaltar que `dtype` não é a mesma coisa que tipo do objeto (type)! O tipo de qualquer objeto Python representa a classe deste objeto e pode ser sempre obtido com o uso da função `type()`. Se você aplicar a função `type()` sobre qualquer Series, sempre receberá como resposta o tipo `pandas.core.series.Series`. Outra consideração importante é que toda **Series** está associada a outras propriedades elementares além do `dtype`.\n",
    "\n",
    "São elas:\n",
    "\n",
    "* `values`: vetor de dados;\n",
    "* `index`: vetor de rótulos;\n",
    "* `name`: nome do vetor de dados;\n",
    "* `size`: tamanho da Series (número de elementos);\n",
    "* `index.name`: nome do vetor de rótulos;\n",
    "* `index.dtype`: `dtype` do vetor de rótulos;"
   ]
  },
  {
   "cell_type": "code",
   "execution_count": 22,
   "id": "33e7df60",
   "metadata": {},
   "outputs": [
    {
     "name": "stdout",
     "output_type": "stream",
     "text": [
      "matrículas\n",
      "M02      Bob\n",
      "M05    Dayse\n",
      "M13     Bill\n",
      "M14     Cris\n",
      "M19     Jimi\n",
      "Name: alunos, dtype: object\n",
      "==================================================\n",
      "número de elementos:  5\n",
      "vetor de dados:  ['Bob' 'Dayse' 'Bill' 'Cris' 'Jimi']\n",
      "vetor de rótulos:  Index(['M02', 'M05', 'M13', 'M14', 'M19'], dtype='object', name='matrículas')\n",
      "tipo (type):  <class 'pandas.core.series.Series'>\n",
      "dtype da Series: object\n",
      "dtype do vetor de rótulos: object\n"
     ]
    }
   ],
   "source": [
    "#P02: Propriedades básicas das Series\n",
    "import pandas as pd\n",
    "\n",
    "#cria a Series \"alunos\"\n",
    "alunos = pd.Series({'M02':'Bob','M05':'Dayse','M13':'Bill', 'M14':'Cris','M19':'Jimi'})\n",
    "\n",
    "#atribui nomes p/ os vetores de dados e rótulos\n",
    "alunos.name = \"alunos\"\n",
    "alunos.index.name = \"matrículas\"\n",
    "\n",
    "#recupera e imprime as propriedades\n",
    "print(alunos)\n",
    "print('=' * 50)\n",
    "tamanho = alunos.size\n",
    "dados = alunos.values\n",
    "rotulos = alunos.index\n",
    "alunos_tipo = type(alunos)\n",
    "alunos_dtype = alunos.dtype\n",
    "alunos_idx_dtype = alunos.index.dtype\n",
    "\n",
    "print('número de elementos: ', tamanho)\n",
    "print('vetor de dados: ', dados)\n",
    "print('vetor de rótulos: ', rotulos)\n",
    "print('tipo (type): ', alunos_tipo)\n",
    "print('dtype da Series:', alunos_dtype)\n",
    "print('dtype do vetor de rótulos:', alunos_idx_dtype)\n"
   ]
  },
  {
   "cell_type": "markdown",
   "id": "15b41e75",
   "metadata": {},
   "source": [
    "# Técnicas para consulta e modificação de dados\n"
   ]
  },
  {
   "cell_type": "code",
   "execution_count": 23,
   "id": "9453e4a0",
   "metadata": {},
   "outputs": [],
   "source": [
    "import pandas as pd\n",
    "\n",
    "#cria a Series \"alunos\"\n",
    "alunos = pd.Series({'M02':'Bob','M05':'Dayse','M13':'Bill', 'M14':'Cris','M19':'Jimi'})"
   ]
  },
  {
   "cell_type": "markdown",
   "id": "421824e6",
   "metadata": {},
   "source": [
    "## 1. Indexação Tradicional\n",
    "\n",
    "Esta técnica de indexação deve ser utilizada quando você quiser recuperar apenas um elemento da **Series**.\n",
    "\n",
    "Exemplo|Resultado|Explicação\n",
    ":---|:---|:---\n",
    "alunos[0]|Bob|primeiro aluno\n",
    "alunos[1]|Dayse|segundo aluno\n",
    "alunos['M14']|Cris|aluno de matrícula 'M14'\n",
    "alunos[alunos.size-1]|Jimi|último aluno\n",
    "alunos[-1]|Jimi|outra forma de pegar o últimoaluno"
   ]
  },
  {
   "cell_type": "code",
   "execution_count": 37,
   "id": "f90c0f63",
   "metadata": {},
   "outputs": [
    {
     "data": {
      "text/plain": [
       "'Dayse'"
      ]
     },
     "execution_count": 37,
     "metadata": {},
     "output_type": "execute_result"
    }
   ],
   "source": [
    "# Exemplos da tabela acima\n",
    "alunos[1]"
   ]
  },
  {
   "cell_type": "markdown",
   "id": "b9c100c8",
   "metadata": {},
   "source": [
    "## 2. Fatiamento (slicing)\n",
    "\n",
    "Esta técnica de indexação baseada em fatiamento (slicing) deve ser utilizada quando você quiser recuperar mais de um elemento da **Series**. Você pode fatiar de duas diferentes formas:\n",
    "\n",
    "* Por intervalos (ranges) definidos por dois pontos `:`;\n",
    "* Por listas.\n",
    "\n",
    "Sintaxe|Explicação\n",
    ":---|:---\n",
    "s[i:j]|do elemento de índice i ao de índice j-1\n",
    "s[i:]|do elemento de índice i até o último\n",
    "s[:j]|do primeiro elemento ao de índice j-1\n",
    "s[-k:]|últimos k elementos\n",
    "s[i:j:k]|do elemento i ao j-1 , utilizando o passo k\n",
    "s[[lista]]|todos os elementos especificados na lista\n",
    "\n",
    "Veja alguns exemplos:\n",
    "\n",
    "Exemplo|Resultado\n",
    ":---|:---\n",
    "alunos[0:2]|{M02:Bob, M05:Dayse}\n",
    "alunos[2:4]|{M13:Bill, M14:Cris}\n",
    "alunos[:2]|{M02:Bob, M05:Dayse}\n",
    "alunos[2:]|{M13:Bill, M14:Cris, M19:Jimi}\n",
    "alunos[-2:]|{M14:Cris, M19:Jimi}\n",
    "alunos[1:5:2]|{M05:Dayse, M14:Cris}\n",
    "alunos[[2,0,4]]|{M13:Bill, M02:Bob, M19:Jimi}\n",
    "alunos[['M13','M02','M19']]|{M13:Bill, M02:Bob, M19:Jimi}"
   ]
  },
  {
   "cell_type": "code",
   "execution_count": null,
   "id": "8e183d26",
   "metadata": {},
   "outputs": [],
   "source": [
    "# Exemplos da tabela acima\n",
    "print(alunos[[2, 0, 4]])\n",
    "print(\"=\" * 30)\n",
    "print(alunos[2:])\n",
    "print(\"=\" * 30)\n",
    "alunos[['M13','M02','M19']]"
   ]
  },
  {
   "cell_type": "markdown",
   "id": "88abae26",
   "metadata": {},
   "source": [
    "## 3. Indexação Booleana\n",
    "\n",
    "Neste modo de indexação, subconjuntos de dados são selecionados com base nos valores da **Series** (valores do vetor de dados) e não em seus rótulos/índices."
   ]
  },
  {
   "cell_type": "code",
   "execution_count": 48,
   "id": "aae6c95e",
   "metadata": {},
   "outputs": [
    {
     "name": "stdout",
     "output_type": "stream",
     "text": [
      "Relação de Alunos Aprovados:\n",
      "==============================\n",
      "M02     Bob\n",
      "M13    Bill\n",
      "M14    Cris\n",
      "dtype: object\n"
     ]
    }
   ],
   "source": [
    "#P03: Indexação booleana\n",
    "import pandas as pd\n",
    "\n",
    "#cria as Series \"notas\" e \"alunos\"\n",
    "notas = pd.Series([7.6, 5.0, 8.5, 9.5, 6.4])\n",
    "alunos = pd.Series({'M02':'Bob','M05':'Dayse','M13':'Bill', 'M14':'Cris','M19':'Jimi'})\n",
    "\n",
    "#obtém os índices dos alunos aprovados\n",
    "idx_aprovados = notas[notas >= 7].index\n",
    "\n",
    "#imprime os alunos aprovados\n",
    "print('Relação de Alunos Aprovados:')\n",
    "print('=' * 30)\n",
    "print(alunos[idx_aprovados])"
   ]
  },
  {
   "cell_type": "code",
   "execution_count": 67,
   "id": "d5a03119",
   "metadata": {},
   "outputs": [
    {
     "name": "stdout",
     "output_type": "stream",
     "text": [
      "existe o rótulo 'M13'? ->  True\n",
      "existe o rótulo 'M99'? ->  False\n",
      "---------------------------\n",
      "existe o valor 'Bob'\n",
      "M02     True\n",
      "M05    False\n",
      "M13    False\n",
      "M14    False\n",
      "M19    False\n",
      "dtype: bool\n"
     ]
    }
   ],
   "source": [
    "# Busca em Series\n",
    "import pandas as pd\n",
    "\n",
    "#cria a Series \"alunos\"\n",
    "alunos = pd.Series({'M02':'Bob','M05':'Dayse','M13':'Bill', 'M14':'Cris','M19':'Jimi'})\n",
    "\n",
    "#testa se rótulos fazem parte de uma Series\n",
    "tem_M13 = 'M13' in alunos\n",
    "tem_M99 = 'M99' in alunos\n",
    "\n",
    "print(\"existe o rótulo 'M13'? -> \",tem_M13)\n",
    "\n",
    "print(\"existe o rótulo 'M99'? -> \",tem_M99)\n",
    "print('---------------------------')\n",
    "\n",
    "#testa se valor faz parte de uma Series\n",
    "tem_Bob = alunos.isin(['Bob'])\n",
    "\n",
    "print(\"existe o valor 'Bob'\")\n",
    "print(tem_Bob)"
   ]
  }
 ],
 "metadata": {
  "kernelspec": {
   "display_name": "Python 3 (ipykernel)",
   "language": "python",
   "name": "python3"
  },
  "language_info": {
   "codemirror_mode": {
    "name": "ipython",
    "version": 3
   },
   "file_extension": ".py",
   "mimetype": "text/x-python",
   "name": "python",
   "nbconvert_exporter": "python",
   "pygments_lexer": "ipython3",
   "version": "3.10.9"
  }
 },
 "nbformat": 4,
 "nbformat_minor": 5
}
