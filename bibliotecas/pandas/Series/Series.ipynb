{
 "cells": [
  {
   "cell_type": "markdown",
   "id": "7f77d5ed",
   "metadata": {},
   "source": [
    "# O que é uma estrutura de dados(ED) Series?"
   ]
  },
  {
   "cell_type": "markdown",
   "id": "9112aeba",
   "metadata": {},
   "source": [
    "Series é uma ED composta por um vetor de dados e um vetor\n",
    "associado de rótulos, este último chamado de índice (index). Ou\n",
    "seja: **Series = vetor de dados + vetor de rótulos.**"
   ]
  },
  {
   "cell_type": "code",
   "execution_count": 1,
   "id": "295e71d7",
   "metadata": {},
   "outputs": [],
   "source": [
    "import pandas as pd"
   ]
  },
  {
   "cell_type": "markdown",
   "id": "14e6f4e1",
   "metadata": {},
   "source": [
    "## Criando uma Series"
   ]
  },
  {
   "cell_type": "code",
   "execution_count": 2,
   "id": "3fc0390f",
   "metadata": {},
   "outputs": [
    {
     "data": {
      "text/plain": [
       "0    7.6\n",
       "1    5.0\n",
       "2    8.5\n",
       "3    9.5\n",
       "4    6.4\n",
       "dtype: float64"
      ]
     },
     "execution_count": 2,
     "metadata": {},
     "output_type": "execute_result"
    }
   ],
   "source": [
    "# Cria a Series notas\n",
    "notas = pd.Series([7.6, 5.0, 8.5, 9.5, 6.4])\n",
    "\n",
    "# Mostra a Series na tela\n",
    "notas"
   ]
  },
  {
   "cell_type": "code",
   "execution_count": 3,
   "id": "53bcaefa",
   "metadata": {},
   "outputs": [
    {
     "data": {
      "text/plain": [
       "M02      Bob\n",
       "M05    Dayse\n",
       "M13     Bill\n",
       "M14     Cris\n",
       "M19     Jimi\n",
       "dtype: object"
      ]
     },
     "execution_count": 3,
     "metadata": {},
     "output_type": "execute_result"
    }
   ],
   "source": [
    "# Cria a Series alunos\n",
    "lst_matriculas = ['M02', 'M05', 'M13', 'M14', 'M19']\n",
    "lst_nomes = ['Bob', 'Dayse', 'Bill', 'Cris', 'Jimi']\n",
    "alunos = pd.Series(lst_nomes, index=lst_matriculas)\n",
    "\n",
    "alunos"
   ]
  },
  {
   "cell_type": "code",
   "execution_count": 4,
   "id": "33e7df60",
   "metadata": {},
   "outputs": [
    {
     "data": {
      "text/plain": [
       "M02      Bob\n",
       "M05    Dayse\n",
       "M13     Bill\n",
       "M14     Cris\n",
       "M19     Jimi\n",
       "dtype: object"
      ]
     },
     "execution_count": 4,
     "metadata": {},
     "output_type": "execute_result"
    }
   ],
   "source": [
    "# Cria a Series alunos com um dicionário\n",
    "dic_alunos = {\n",
    "    'M02':'Bob',\n",
    "    'M05':'Dayse',\n",
    "    'M13':'Bill',\n",
    "    'M14':'Cris',\n",
    "    'M19':'Jimi'\n",
    "}\n",
    "alunos = pd.Series(dic_alunos)\n",
    "\n",
    "alunos"
   ]
  }
 ],
 "metadata": {
  "kernelspec": {
   "display_name": "Python 3 (ipykernel)",
   "language": "python",
   "name": "python3"
  },
  "language_info": {
   "codemirror_mode": {
    "name": "ipython",
    "version": 3
   },
   "file_extension": ".py",
   "mimetype": "text/x-python",
   "name": "python",
   "nbconvert_exporter": "python",
   "pygments_lexer": "ipython3",
   "version": "3.10.9"
  }
 },
 "nbformat": 4,
 "nbformat_minor": 5
}
